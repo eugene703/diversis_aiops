{
 "cells": [
  {
   "cell_type": "code",
   "execution_count": null,
   "id": "55a4182c",
   "metadata": {},
   "outputs": [],
   "source": [
    "import kagglehub\n",
    "import os\n",
    "import pandas as pd\n",
    "\n",
    "# Ensure the /data folder exists\n",
    "data_dir = os.path.join(os.getcwd(), \"data\")\n",
    "os.makedirs(data_dir, exist_ok=True)\n",
    "\n"
   ]
  },
  {
   "cell_type": "code",
   "execution_count": null,
   "id": "58d43473",
   "metadata": {},
   "outputs": [],
   "source": [
    "# Download the dataset from Kaggle\n",
    "path = kagglehub.dataset_download(\"mkechinov/ecommerce-behavior-data-from-multi-category-store\")\n",
    "print(f\"Dataset downloaded and extracted to: {path}\")\n"
   ]
  },
  {
   "cell_type": "code",
   "execution_count": null,
   "id": "6ee6db19",
   "metadata": {},
   "outputs": [],
   "source": [
    "path = data_dir\n",
    "\n",
    "# Find all CSV files in the extracted directory\n",
    "csv_files = [os.path.join(path, f) for f in os.listdir(path) if f.endswith('.csv')]\n",
    "\n",
    "# Convert each CSV file to a Parquet file in /data\n",
    "for csv_file in csv_files:\n",
    "    df = pd.read_csv(csv_file)\n",
    "    parquet_file = os.path.join(data_dir, os.path.basename(csv_file).replace('.csv', '.parquet'))\n",
    "    df.to_parquet(parquet_file, index=False)\n",
    "    print(f\"Converted {csv_file} to {parquet_file}\")\n",
    "\n",
    "print(\"All CSVs converted to Parquet in the /data folder!\")\n"
   ]
  }
 ],
 "metadata": {
  "kernelspec": {
   "display_name": "env",
   "language": "python",
   "name": "python3"
  },
  "language_info": {
   "name": "python",
   "version": "3.12.3"
  }
 },
 "nbformat": 4,
 "nbformat_minor": 5
}
